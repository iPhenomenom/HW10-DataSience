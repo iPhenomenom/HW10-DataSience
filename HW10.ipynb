{
  "cells": [
    {
      "cell_type": "code",
      "execution_count": null,
      "metadata": {
        "id": "NX2nl9Npt1FW"
      },
      "outputs": [],
      "source": [
        "import numpy as np\n",
        "import tensorflow as tf\n",
        "from tensorflow.keras import datasets, layers, models\n",
        "import matplotlib.pyplot as plt"
      ]
    },
    {
      "cell_type": "code",
      "execution_count": null,
      "metadata": {
        "colab": {
          "base_uri": "https://localhost:8080/"
        },
        "id": "xBgPsdTmt36A",
        "outputId": "345e2c0d-53b8-483f-c894-fc766d4d16b6"
      },
      "outputs": [
        {
          "name": "stdout",
          "output_type": "stream",
          "text": [
            "Downloading data from https://storage.googleapis.com/tensorflow/tf-keras-datasets/train-labels-idx1-ubyte.gz\n",
            "29515/29515 [==============================] - 0s 0us/step\n",
            "Downloading data from https://storage.googleapis.com/tensorflow/tf-keras-datasets/train-images-idx3-ubyte.gz\n",
            "26421880/26421880 [==============================] - 0s 0us/step\n",
            "Downloading data from https://storage.googleapis.com/tensorflow/tf-keras-datasets/t10k-labels-idx1-ubyte.gz\n",
            "5148/5148 [==============================] - 0s 0us/step\n",
            "Downloading data from https://storage.googleapis.com/tensorflow/tf-keras-datasets/t10k-images-idx3-ubyte.gz\n",
            "4422102/4422102 [==============================] - 0s 0us/step\n"
          ]
        }
      ],
      "source": [
        "(train_images, train_labels), (test_images, test_labels) = datasets.fashion_mnist.load_data()\n"
      ]
    },
    {
      "cell_type": "code",
      "execution_count": null,
      "metadata": {
        "id": "xIpty0bjt9ap"
      },
      "outputs": [],
      "source": [
        "train_images, test_images = train_images / 255.0, test_images / 255.0\n"
      ]
    },
    {
      "cell_type": "code",
      "execution_count": null,
      "metadata": {
        "id": "Eh65j6_Et_II"
      },
      "outputs": [],
      "source": [
        "model = models.Sequential()\n",
        "model.add(layers.Conv2D(32, (3, 3), activation='relu', input_shape=(28, 28, 1)))\n",
        "model.add(layers.MaxPooling2D((2, 2)))\n",
        "model.add(layers.Conv2D(64, (3, 3), activation='relu'))\n",
        "model.add(layers.MaxPooling2D((2, 2)))\n",
        "model.add(layers.Conv2D(64, (3, 3), activation='relu'))\n",
        "model.add(layers.Flatten())\n",
        "model.add(layers.Dense(64, activation='relu'))\n",
        "model.add(layers.Dense(10, activation='softmax'))\n"
      ]
    },
    {
      "cell_type": "code",
      "execution_count": null,
      "metadata": {
        "colab": {
          "base_uri": "https://localhost:8080/"
        },
        "id": "yQ3D1EQWuAN3",
        "outputId": "8c1e66ba-f292-4911-d256-5883c90f89b1"
      },
      "outputs": [
        {
          "name": "stdout",
          "output_type": "stream",
          "text": [
            "Epoch 1/30\n",
            "1875/1875 [==============================] - 75s 39ms/step - loss: 0.4944 - accuracy: 0.8177 - val_loss: 0.3624 - val_accuracy: 0.8672\n",
            "Epoch 2/30\n",
            "1875/1875 [==============================] - 59s 31ms/step - loss: 0.3169 - accuracy: 0.8846 - val_loss: 0.3155 - val_accuracy: 0.8845\n",
            "Epoch 3/30\n",
            "1875/1875 [==============================] - 59s 31ms/step - loss: 0.2716 - accuracy: 0.8992 - val_loss: 0.3027 - val_accuracy: 0.8910\n",
            "Epoch 4/30\n",
            "1875/1875 [==============================] - 59s 31ms/step - loss: 0.2437 - accuracy: 0.9101 - val_loss: 0.2908 - val_accuracy: 0.8940\n",
            "Epoch 5/30\n",
            "1875/1875 [==============================] - 57s 30ms/step - loss: 0.2190 - accuracy: 0.9198 - val_loss: 0.2759 - val_accuracy: 0.9006\n",
            "Epoch 6/30\n",
            "1875/1875 [==============================] - 59s 31ms/step - loss: 0.1998 - accuracy: 0.9256 - val_loss: 0.2675 - val_accuracy: 0.9049\n",
            "Epoch 7/30\n",
            "1875/1875 [==============================] - 56s 30ms/step - loss: 0.1825 - accuracy: 0.9322 - val_loss: 0.2819 - val_accuracy: 0.8988\n",
            "Epoch 8/30\n",
            "1875/1875 [==============================] - 56s 30ms/step - loss: 0.1693 - accuracy: 0.9361 - val_loss: 0.2666 - val_accuracy: 0.9081\n",
            "Epoch 9/30\n",
            "1875/1875 [==============================] - 58s 31ms/step - loss: 0.1537 - accuracy: 0.9421 - val_loss: 0.2697 - val_accuracy: 0.9056\n",
            "Epoch 10/30\n",
            "1875/1875 [==============================] - 57s 30ms/step - loss: 0.1418 - accuracy: 0.9462 - val_loss: 0.2962 - val_accuracy: 0.9116\n",
            "Epoch 11/30\n",
            "1875/1875 [==============================] - 58s 31ms/step - loss: 0.1303 - accuracy: 0.9520 - val_loss: 0.2853 - val_accuracy: 0.9069\n",
            "Epoch 12/30\n",
            "1875/1875 [==============================] - 55s 30ms/step - loss: 0.1215 - accuracy: 0.9537 - val_loss: 0.3109 - val_accuracy: 0.9068\n",
            "Epoch 13/30\n",
            "1875/1875 [==============================] - 56s 30ms/step - loss: 0.1123 - accuracy: 0.9573 - val_loss: 0.3146 - val_accuracy: 0.9062\n",
            "Epoch 14/30\n",
            "1875/1875 [==============================] - 58s 31ms/step - loss: 0.1048 - accuracy: 0.9597 - val_loss: 0.3165 - val_accuracy: 0.9051\n",
            "Epoch 15/30\n",
            "1875/1875 [==============================] - 59s 31ms/step - loss: 0.0980 - accuracy: 0.9633 - val_loss: 0.3256 - val_accuracy: 0.9084\n",
            "Epoch 16/30\n",
            "1875/1875 [==============================] - 59s 32ms/step - loss: 0.0893 - accuracy: 0.9666 - val_loss: 0.3524 - val_accuracy: 0.9093\n",
            "Epoch 17/30\n",
            "1875/1875 [==============================] - 56s 30ms/step - loss: 0.0849 - accuracy: 0.9676 - val_loss: 0.3748 - val_accuracy: 0.9073\n",
            "Epoch 18/30\n",
            "1875/1875 [==============================] - 60s 32ms/step - loss: 0.0816 - accuracy: 0.9691 - val_loss: 0.3957 - val_accuracy: 0.9087\n",
            "Epoch 19/30\n",
            "1875/1875 [==============================] - 57s 30ms/step - loss: 0.0752 - accuracy: 0.9715 - val_loss: 0.4113 - val_accuracy: 0.9020\n",
            "Epoch 20/30\n",
            "1875/1875 [==============================] - 57s 30ms/step - loss: 0.0739 - accuracy: 0.9722 - val_loss: 0.4069 - val_accuracy: 0.9027\n",
            "Epoch 21/30\n",
            "1875/1875 [==============================] - 58s 31ms/step - loss: 0.0677 - accuracy: 0.9743 - val_loss: 0.4399 - val_accuracy: 0.9042\n",
            "Epoch 22/30\n",
            "1875/1875 [==============================] - 57s 30ms/step - loss: 0.0663 - accuracy: 0.9751 - val_loss: 0.4582 - val_accuracy: 0.9048\n",
            "Epoch 23/30\n",
            "1875/1875 [==============================] - 59s 32ms/step - loss: 0.0644 - accuracy: 0.9761 - val_loss: 0.4237 - val_accuracy: 0.9059\n",
            "Epoch 24/30\n",
            "1875/1875 [==============================] - 58s 31ms/step - loss: 0.0591 - accuracy: 0.9771 - val_loss: 0.4652 - val_accuracy: 0.9061\n",
            "Epoch 25/30\n",
            "1875/1875 [==============================] - 58s 31ms/step - loss: 0.0556 - accuracy: 0.9797 - val_loss: 0.4958 - val_accuracy: 0.9051\n",
            "Epoch 26/30\n",
            "1875/1875 [==============================] - 57s 31ms/step - loss: 0.0566 - accuracy: 0.9792 - val_loss: 0.4791 - val_accuracy: 0.9011\n",
            "Epoch 27/30\n",
            "1875/1875 [==============================] - 57s 30ms/step - loss: 0.0506 - accuracy: 0.9803 - val_loss: 0.5361 - val_accuracy: 0.9036\n",
            "Epoch 28/30\n",
            "1875/1875 [==============================] - 59s 31ms/step - loss: 0.0516 - accuracy: 0.9811 - val_loss: 0.5356 - val_accuracy: 0.9057\n",
            "Epoch 29/30\n",
            "1875/1875 [==============================] - 56s 30ms/step - loss: 0.0530 - accuracy: 0.9804 - val_loss: 0.5854 - val_accuracy: 0.9003\n",
            "Epoch 30/30\n",
            "1875/1875 [==============================] - 59s 31ms/step - loss: 0.0495 - accuracy: 0.9824 - val_loss: 0.5535 - val_accuracy: 0.9025\n"
          ]
        }
      ],
      "source": [
        "model.compile(optimizer='adam',\n",
        "              loss='sparse_categorical_crossentropy',\n",
        "              metrics=['accuracy'])\n",
        "\n",
        "history = model.fit(train_images, train_labels, epochs=30,\n",
        "                    validation_data=(test_images, test_labels))\n"
      ]
    },
    {
      "cell_type": "code",
      "execution_count": null,
      "metadata": {
        "colab": {
          "base_uri": "https://localhost:8080/",
          "height": 510
        },
        "id": "FCuZ8pOVuHZB",
        "outputId": "dc8a4f0d-b654-492d-8039-f260ccf03329"
      },
      "outputs": [
        {
          "name": "stdout",
          "output_type": "stream",
          "text": [
            "313/313 - 2s - loss: 0.5535 - accuracy: 0.9025 - 2s/epoch - 7ms/step\n",
            "\n",
            "Test accuracy: 0.9024999737739563\n"
          ]
        },
        {
          "data": {
            "image/png": "[encoded data removed]",
            "text/plain": [
              "<Figure size 640x480 with 1 Axes>"
            ]
          },
          "metadata": {},
          "output_type": "display_data"
        }
      ],
      "source": [
        "test_loss, test_acc = model.evaluate(test_images, test_labels, verbose=2)\n",
        "print(\"\\nTest accuracy:\", test_acc)\n",
        "\n",
        "# Графік точності та втрат під час навчання\n",
        "plt.plot(history.history['accuracy'], label='accuracy')\n",
        "plt.plot(history.history['val_accuracy'], label = 'val_accuracy')\n",
        "plt.xlabel('Epoch')\n",
        "plt.ylabel('Accuracy')\n",
        "plt.ylim([0, 1])\n",
        "plt.legend(loc='lower right')\n",
        "plt.show()\n"
      ]
    },
    {
      "cell_type": "markdown",
      "metadata": {
        "id": "xNx1RaEewftD"
      },
      "source": [
        "Згорткові мережі (CNNs) працюють добре: У вас є підтвердження того, що згорткові нейронні мережі (CNNs) добре працюють для завдань класифікації зображень, таких як Fashion MNIST. Їхні здатності до виділення ознак на різних рівнях абстракції роблять їх ефективними для аналізу текстур і форм одягу.\n",
        "\n",
        "Архітектура мережі має значення: Оптимальна архітектура мережі може суттєво впливати на результати. Зазвичай починають з кількох згорткових і пулінгових шарів, додавання більше шарів або зменшення їх кількості може вплинути на точність.\n",
        "\n",
        "Функції активації: Використання функції активації \"relu\" в згорткових шарах є популярним вибором, але можна спробувати інші функції активації, такі як \"Leaky ReLU\" або \"ELU\", щоб покращити результати.\n",
        "\n",
        "Кількість фільтрів і розмір ядра: Зміна кількості фільтрів та розміру ядра згорткового шару може впливати на здатність мережі виділяти ознаки. Експериментуйте з цими параметрами, щоб підібрати їх оптимальні значення.\n",
        "\n",
        "Пулінг: Додавання пулінгових шарів може допомогти зменшити кількість параметрів та обчислень у мережі, але не завжди є необхідним.\n",
        "\n",
        "Регуляризація та викиди: Регуляризація, така як викиди і регуляризація ваг, може допомогти уникнути перенавчання моделі.\n",
        "\n",
        "Оптимізатори та швидкість навчання: Вибір оптимізатора і рівня швидкості навчання може впливати на збіжність моделі. Adam часто є хорошим вибором, але інші оптимізатори, такі як RMSprop або SGD, також варто спробувати.\n",
        "\n",
        "Збільшення даних: Збільшення навчальних даних за допомогою аугментації може покращити точність моделі.\n",
        "\n",
        "Ансамблі моделей: Використання ансамблів декількох моделей (наприклад, згорткових мереж) може підвищити точність класифікації.\n",
        "\n",
        "Гіперпараметри: Експериментуйте з іншими гіперпараметрами, такими як кількість епох навчання, розмір пакету (batch size) і так далі."
      ]
    },
    {
      "cell_type": "code",
      "execution_count": 2,
      "metadata": {
        "id": "EPRu9Qsm0q6B"
      },
      "outputs": [],
      "source": [
        "import numpy as np\n",
        "import tensorflow as tf\n",
        "from tensorflow.keras import datasets, layers, models\n",
        "from tensorflow.keras.applications import VGG16\n",
        "import matplotlib.pyplot as plt"
      ]
    },
    {
      "cell_type": "code",
      "execution_count": 3,
      "metadata": {
        "id": "MENmX9mu050j",
        "colab": {
          "base_uri": "https://localhost:8080/"
        },
        "outputId": "4af72677-6e50-4bf8-a552-d9f74ec5a1d7"
      },
      "outputs": [
        {
          "output_type": "stream",
          "name": "stdout",
          "text": [
            "Downloading data from https://storage.googleapis.com/tensorflow/tf-keras-datasets/train-labels-idx1-ubyte.gz\n",
            "29515/29515 [==============================] - 0s 1us/step\n",
            "Downloading data from https://storage.googleapis.com/tensorflow/tf-keras-datasets/train-images-idx3-ubyte.gz\n",
            "26421880/26421880 [==============================] - 2s 0us/step\n",
            "Downloading data from https://storage.googleapis.com/tensorflow/tf-keras-datasets/t10k-labels-idx1-ubyte.gz\n",
            "5148/5148 [==============================] - 0s 0us/step\n",
            "Downloading data from https://storage.googleapis.com/tensorflow/tf-keras-datasets/t10k-images-idx3-ubyte.gz\n",
            "4422102/4422102 [==============================] - 1s 0us/step\n"
          ]
        }
      ],
      "source": [
        "# Завантаження та підготовка даних\n",
        "(train_images, train_labels), (test_images, test_labels) = datasets.fashion_mnist.load_data()\n",
        "train_images = np.expand_dims(train_images, axis=-1)\n",
        "test_images = np.expand_dims(test_images, axis=-1)"
      ]
    },
    {
      "cell_type": "code",
      "execution_count": 4,
      "metadata": {
        "id": "YENg3Q_656G-"
      },
      "outputs": [],
      "source": [
        "# Збільшення розміру зображень з 28x28 до 48x48 та додавання каналу RGB\n",
        "train_images = tf.image.grayscale_to_rgb(tf.image.resize(train_images, (48, 48)))\n",
        "test_images = tf.image.grayscale_to_rgb(tf.image.resize(test_images, (48, 48)))"
      ]
    },
    {
      "cell_type": "code",
      "execution_count": 5,
      "metadata": {
        "id": "zyOF3JMh6d0u"
      },
      "outputs": [],
      "source": [
        "# Масштабування пікселів до діапазону [0, 1]\n",
        "train_images, test_images = train_images / 255.0, test_images / 255.0"
      ]
    },
    {
      "cell_type": "code",
      "execution_count": 6,
      "metadata": {
        "id": "P7xU-3tr09Ac",
        "colab": {
          "base_uri": "https://localhost:8080/"
        },
        "outputId": "3d662898-d1bd-41de-cb28-ba50b54a9be3"
      },
      "outputs": [
        {
          "output_type": "stream",
          "name": "stdout",
          "text": [
            "Downloading data from https://storage.googleapis.com/tensorflow/keras-applications/vgg16/vgg16_weights_tf_dim_ordering_tf_kernels_notop.h5\n",
            "58889256/58889256 [==============================] - 3s 0us/step\n"
          ]
        }
      ],
      "source": [
        "# Згорткова основа VGG16\n",
        "vgg_base = VGG16(weights='imagenet',\n",
        "                 include_top=False,\n",
        "                 input_shape=(48, 48, 3))  # Змініть розмір входу на (48, 48, 3)"
      ]
    },
    {
      "cell_type": "code",
      "execution_count": 7,
      "metadata": {
        "id": "PDM0aS3b14tt"
      },
      "outputs": [],
      "source": [
        "# Створення моделі\n",
        "model = models.Sequential()\n",
        "model.add(vgg_base)  # Додавання VGG16 як згорткової основи\n",
        "model.add(layers.Flatten())\n",
        "model.add(layers.Dense(256, activation='relu'))\n",
        "model.add(layers.Dropout(0.5))\n",
        "model.add(layers.Dense(10, activation='softmax'))"
      ]
    },
    {
      "cell_type": "code",
      "execution_count": 8,
      "metadata": {
        "id": "lmB5ar6S0x9U"
      },
      "outputs": [],
      "source": [
        "# Замороження згорткової основи (опціонально)\n",
        "vgg_base.trainable = False"
      ]
    },
    {
      "cell_type": "code",
      "execution_count": 9,
      "metadata": {
        "id": "dIRQ1_266FN1"
      },
      "outputs": [],
      "source": [
        "# Компіляція моделі\n",
        "model.compile(optimizer='adam',\n",
        "              loss='sparse_categorical_crossentropy',\n",
        "              metrics=['accuracy'])"
      ]
    },
    {
      "cell_type": "code",
      "execution_count": 10,
      "metadata": {
        "colab": {
          "base_uri": "https://localhost:8080/"
        },
        "id": "xkpg7zE0AuHB",
        "outputId": "d01f8eed-43dd-43ed-e8d9-c64be79d205b"
      },
      "outputs": [
        {
          "output_type": "stream",
          "name": "stdout",
          "text": [
            "Epoch 1/20\n",
            "118/118 [==============================] - 1930s 16s/step - loss: 0.8745 - accuracy: 0.7014 - val_loss: 0.5213 - val_accuracy: 0.8144\n",
            "Epoch 2/20\n",
            "118/118 [==============================] - 1917s 16s/step - loss: 0.5212 - accuracy: 0.8152 - val_loss: 0.4540 - val_accuracy: 0.8353\n",
            "Epoch 3/20\n",
            "118/118 [==============================] - 1857s 16s/step - loss: 0.4626 - accuracy: 0.8352 - val_loss: 0.4222 - val_accuracy: 0.8480\n",
            "Epoch 4/20\n",
            "118/118 [==============================] - 1911s 16s/step - loss: 0.4291 - accuracy: 0.8463 - val_loss: 0.4031 - val_accuracy: 0.8550\n",
            "Epoch 5/20\n",
            "118/118 [==============================] - 1911s 16s/step - loss: 0.4064 - accuracy: 0.8537 - val_loss: 0.3876 - val_accuracy: 0.8621\n",
            "Epoch 6/20\n",
            "118/118 [==============================] - 1908s 16s/step - loss: 0.3905 - accuracy: 0.8597 - val_loss: 0.3800 - val_accuracy: 0.8618\n",
            "Epoch 7/20\n",
            "118/118 [==============================] - 1853s 16s/step - loss: 0.3800 - accuracy: 0.8623 - val_loss: 0.3724 - val_accuracy: 0.8679\n",
            "Epoch 8/20\n",
            "118/118 [==============================] - 1913s 16s/step - loss: 0.3699 - accuracy: 0.8658 - val_loss: 0.3646 - val_accuracy: 0.8696\n",
            "Epoch 9/20\n",
            "118/118 [==============================] - 1913s 16s/step - loss: 0.3587 - accuracy: 0.8687 - val_loss: 0.3627 - val_accuracy: 0.8680\n",
            "Epoch 10/20\n",
            "118/118 [==============================] - 1918s 16s/step - loss: 0.3516 - accuracy: 0.8735 - val_loss: 0.3588 - val_accuracy: 0.8732\n",
            "Epoch 11/20\n",
            "118/118 [==============================] - 1925s 16s/step - loss: 0.3404 - accuracy: 0.8761 - val_loss: 0.3544 - val_accuracy: 0.8716\n",
            "Epoch 12/20\n",
            "118/118 [==============================] - 1865s 16s/step - loss: 0.3362 - accuracy: 0.8782 - val_loss: 0.3522 - val_accuracy: 0.8717\n",
            "Epoch 13/20\n",
            "118/118 [==============================] - 1925s 16s/step - loss: 0.3313 - accuracy: 0.8794 - val_loss: 0.3484 - val_accuracy: 0.8761\n",
            "Epoch 14/20\n",
            "118/118 [==============================] - 1921s 16s/step - loss: 0.3276 - accuracy: 0.8828 - val_loss: 0.3455 - val_accuracy: 0.8767\n",
            "Epoch 15/20\n",
            "118/118 [==============================] - 1923s 16s/step - loss: 0.3188 - accuracy: 0.8839 - val_loss: 0.3429 - val_accuracy: 0.8751\n",
            "Epoch 16/20\n",
            "118/118 [==============================] - 1927s 16s/step - loss: 0.3155 - accuracy: 0.8847 - val_loss: 0.3391 - val_accuracy: 0.8769\n",
            "Epoch 17/20\n",
            "118/118 [==============================] - 1857s 16s/step - loss: 0.3123 - accuracy: 0.8868 - val_loss: 0.3375 - val_accuracy: 0.8784\n",
            "Epoch 18/20\n",
            "118/118 [==============================] - 1919s 16s/step - loss: 0.3073 - accuracy: 0.8882 - val_loss: 0.3365 - val_accuracy: 0.8788\n",
            "Epoch 19/20\n",
            "118/118 [==============================] - 1916s 16s/step - loss: 0.3052 - accuracy: 0.8889 - val_loss: 0.3363 - val_accuracy: 0.8782\n",
            "Epoch 20/20\n",
            "118/118 [==============================] - 1915s 16s/step - loss: 0.3006 - accuracy: 0.8912 - val_loss: 0.3354 - val_accuracy: 0.8800\n"
          ]
        }
      ],
      "source": [
        "epochs = 20  # Зменшити кількість епох\n",
        "batch_size = 512  # Зменшити розмір батча\n",
        "history = model.fit(train_images, train_labels, batch_size=batch_size, epochs=epochs, validation_data=(test_images, test_labels))"
      ]
    },
    {
      "cell_type": "code",
      "execution_count": 11,
      "metadata": {
        "id": "U29h6rr-7QTz",
        "colab": {
          "base_uri": "https://localhost:8080/"
        },
        "outputId": "bd4c73c1-4f04-475e-bd39-d893fbd68c88"
      },
      "outputs": [
        {
          "output_type": "stream",
          "name": "stdout",
          "text": [
            "313/313 - 256s - loss: 0.3354 - accuracy: 0.8800 - 256s/epoch - 818ms/step\n",
            "\n",
            "Test accuracy: 0.8799999952316284\n"
          ]
        }
      ],
      "source": [
        "# Оцінка та візуалізація результатів\n",
        "test_loss, test_acc = model.evaluate(test_images, test_labels, verbose=2)\n",
        "print(\"\\nTest accuracy:\", test_acc)"
      ]
    },
    {
      "cell_type": "code",
      "execution_count": 12,
      "metadata": {
        "id": "bcVAd9jm7R76",
        "colab": {
          "base_uri": "https://localhost:8080/",
          "height": 455
        },
        "outputId": "c9fc8579-bbdf-4d44-e9cb-e8cd3cdd4510"
      },
      "outputs": [
        {
          "output_type": "display_data",
          "data": {
            "text/plain": [
              "<Figure size 640x480 with 1 Axes>"
            ],
            "image/png": "[encoded data removed]"
          },
          "metadata": {}
        }
      ],
      "source": [
        "# Графік точності та втрат під час навчання\n",
        "\n",
        "plt.plot(history.history['accuracy'], label='accuracy')\n",
        "plt.plot(history.history['val_accuracy'], label='val_accuracy')\n",
        "plt.xlabel('Epoch')\n",
        "plt.ylabel('Accuracy')\n",
        "plt.ylim([0, 1])\n",
        "plt.legend(loc='lower right')\n",
        "plt.show()"
      ]
    }
  ],
  "metadata": {
    "colab": {
      "provenance": []
    },
    "kernelspec": {
      "display_name": "Python 3",
      "name": "python3"
    },
    "language_info": {
      "name": "python"
    }
  },
  "nbformat": 4,
  "nbformat_minor": 0
}